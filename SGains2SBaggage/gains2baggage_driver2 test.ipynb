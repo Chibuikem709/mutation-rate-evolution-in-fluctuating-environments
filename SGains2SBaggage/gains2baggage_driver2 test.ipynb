{
 "cells": [
  {
   "cell_type": "code",
   "execution_count": 2,
   "metadata": {
    "collapsed": false
   },
   "outputs": [
    {
     "data": {
      "image/png": "[encoded data removed]",
      "text/plain": [
       "<IPython.core.display.Image object>"
      ]
     },
     "metadata": {},
     "output_type": "display_data"
    },
    {
     "data": {
      "text/plain": [
       "phat =\n",
       "\n",
       "    0.0310\n",
       "    0.0350\n",
       "    0.0570\n",
       "    0.0530\n",
       "\n",
       "\n",
       "ci =\n",
       "\n",
       "    0.0417    0.0203\n",
       "    0.0464    0.0236\n",
       "    0.0714    0.0426\n",
       "    0.0669    0.0391"
      ]
     },
     "execution_count": 2,
     "metadata": {},
     "output_type": "execute_result"
    }
   ],
   "source": [
    "    %General Parameters\n",
    "        N = 1000; %population size \n",
    "        num_loci = 1000;%number of loci in accessory genome\n",
    "        m = [10, 100, 1000, 10000]; %m = [1, 10,50, 100, 1000, 10000];\n",
    "        mu_1 =  10^(-7);%mutation rate\n",
    "        mu_2 = 100*mu_1;\n",
    "        rev_mut = .001;\n",
    "        num_essential = round(.25*num_loci);\n",
    "\n",
    "    %scalar values of some things\n",
    "        s_baggage = .1;%costs\n",
    "        s_gains = 1; \n",
    "        frac_needed_scalar = .1; %fraction_needed \n",
    "        alpha= 1.96;\n",
    "    %vector values of the same things things\n",
    "        % weights = .1 * ones(1, num_loci);%vector of length \"num_loci\" denoting fitness contribution \n",
    "        %             %of each functional locus when needed\n",
    "        % costs = .001 * ones(1, num_loci);%vector denoting fitness cost of functional loci when not needed\n",
    "        % fraction_needed = .1 * ones(1, num_loci);%vector denoting fraction of environments each locus is needed\n",
    "    \n",
    "        \n",
    "    %simulation parameters\n",
    "        num_reps = 1000; %number of replicate runs\n",
    "    %initialize data structures\n",
    "        is_fixed = zeros(length(m), num_reps);\n",
    "        stop_time = zeros(length(m), num_reps);\n",
    "        m_array_index = 0;\n",
    "       \n",
    "\n",
    "\n",
    "\n",
    "    \n",
    "%for the figure\n",
    "    close all;\n",
    "   \n",
    "    \n",
    "    \n",
    "\n",
    "for l = m\n",
    "    \n",
    "    change_rate = l;%number of gens btwn environmental changes\n",
    "    m_array_index = m_array_index+1;\n",
    "    for j = 1:num_reps\n",
    "        pop = [N-1,ones(1,num_loci),mu_1;1,ones(1,num_loci),mu_2]; %starts all individuals with all functional loci\n",
    "        rand_vect = rand(1,num_loci); %initializes with a random environment\n",
    "        env = rand_vect<=frac_needed_scalar;\n",
    "        k=1;\n",
    "        counter = round((rand)*(change_rate - 1));\n",
    "        while k == 1\n",
    "\n",
    "            counter = counter + 1;\n",
    "            \n",
    "            if mod(counter,change_rate)==0 %determines if environment should change this generation\n",
    "                rand_vect = rand(1,num_loci); %initializes with a random environment\n",
    "                env = rand_vect<=frac_needed_scalar; %resets each environment\n",
    "            end\n",
    "\n",
    "            pop = mutate3(pop, rev_mut, num_essential); %mutate population\n",
    "            %%%%%%%%%%% deals with extinction %%%%%%%%%%%%%%%%%%%\n",
    "            if (size(pop,1) == 1) && (isnan(pop(:,2)))\n",
    "                break\n",
    "            end\n",
    "            %%%%%%%%%%%%%%%%%%%%%%%%%%%%%%%%%%%%%%%%%%%%%%%%%%%%%%%%%%%%\n",
    "\n",
    "            fitnesses = compute_fitness3(pop,s_gains,env,s_baggage); %computes fitnesses for each unique genotype\n",
    "            \n",
    "            pop = wright_fisher2(fitnesses); %performs wright_fisher sampling to update population to next generation\n",
    "            \n",
    "            index = find(m == change_rate);\n",
    "            \n",
    "            mu_poly = unique(pop(:, end));\n",
    "            if length(mu_poly) == 1\n",
    "                k = 0;\n",
    "                if mu_poly == mu_1\n",
    "                    is_fixed(index,j) = 0;\n",
    "                    stop_time(index,j)= counter;\n",
    "                elseif mu_poly == mu_2\n",
    "                    is_fixed(index,j) = 1;\n",
    "                    stop_time(index,j)= counter;\n",
    "\n",
    "                else\n",
    "                     error('Value other than 0 or 1 are not permited')\n",
    "                end\n",
    "            end\n",
    "\n",
    "        \n",
    "               \n",
    "        end\n",
    "\n",
    "\n",
    "    end\n",
    "    \n",
    "end\n",
    "\n",
    "pfix_cr10 = sum(is_fixed(1,:),2)/num_reps;\n",
    "pfix_cr100 = sum(is_fixed(2,:),2)/num_reps;\n",
    "pfix_cr1000 = sum(is_fixed(3,:),2)/num_reps;\n",
    "pfix_cr10000 = sum(is_fixed(4,:),2)/num_reps;\n",
    "phat =[pfix_cr10; pfix_cr100; pfix_cr1000; pfix_cr10000]\n",
    "se = sqrt(((1-phat).*(phat))./N);\n",
    "ci_plus = phat + alpha*se;\n",
    "ci_minus = phat - alpha*se;\n",
    "ci = [ci_plus,ci_minus]\n",
    "figure\n",
    "errorbar(m,phat,ci_minus, ci_plus,'rx');"
   ]
  },
  {
   "cell_type": "code",
   "execution_count": 4,
   "metadata": {
    "collapsed": false
   },
   "outputs": [
    {
     "data": {
      "image/png": "[encoded data removed]",
      "text/plain": [
       "<IPython.core.display.Image object>"
      ]
     },
     "metadata": {},
     "output_type": "display_data"
    }
   ],
   "source": [
    "figure\n",
    "hold on\n",
    "scatter(1:4,phat)\n",
    "errorbar(1:4,phat,ci_minus, ci_plus,'.')"
   ]
  },
  {
   "cell_type": "code",
   "execution_count": null,
   "metadata": {
    "collapsed": true
   },
   "outputs": [],
   "source": []
  }
 ],
 "metadata": {
  "kernelspec": {
   "display_name": "Matlab",
   "language": "matlab",
   "name": "matlab_kernel"
  },
  "language_info": {
   "codemirror_mode": "Octave",
   "file_extension": ".m",
   "help_links": [
    {
     "text": "MetaKernel Magics",
     "url": "https://github.com/calysto/metakernel/blob/master/metakernel/magics/README.md"
    }
   ],
   "mimetype": "text/x-matlab",
   "name": "octave"
  }
 },
 "nbformat": 4,
 "nbformat_minor": 0
}
