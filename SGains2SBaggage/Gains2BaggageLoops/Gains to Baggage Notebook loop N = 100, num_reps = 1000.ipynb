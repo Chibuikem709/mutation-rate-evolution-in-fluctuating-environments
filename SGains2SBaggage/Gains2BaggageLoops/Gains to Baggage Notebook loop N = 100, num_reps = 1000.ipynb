{
 "cells": [
  {
   "cell_type": "code",
   "execution_count": 1,
   "metadata": {
    "collapsed": false
   },
   "outputs": [
    {
     "data": {
      "image/png": "[encoded data removed]",
      "text/plain": [
       "<IPython.core.display.Image object>"
      ]
     },
     "metadata": {},
     "output_type": "display_data"
    }
   ],
   "source": [
    "for y=1:2\n",
    "    for i=1:4\n",
    "        \n",
    "        %General Parameters\n",
    "                N = 100; %population size \n",
    "                num_loci = 1000;%number of loci in accessory genome\n",
    "                m = [10, 100, 1000, 10000]; %m = [1, 10,50, 100, 1000, 10000];\n",
    "                mu_1 =  10^(-7);%mutation rate\n",
    "                mu_2 = 100*mu_1;\n",
    "                rev_mut = .001;\n",
    "                num_essential = round(.25*num_loci);\n",
    "\n",
    "            %scalar values of some things\n",
    "                s_baggage = 10^(-i);%costs\n",
    "                s_gains = 10^(y); \n",
    "                frac_needed_scalar = .1; %fraction_needed \n",
    "            %vector values of the same things things\n",
    "                % weights = .1 * ones(1, num_loci);%vector of length \"num_loci\" denoting fitness contribution \n",
    "                %             %of each functional locus when needed\n",
    "                % costs = .001 * ones(1, num_loci);%vector denoting fitness cost of functional loci when not needed\n",
    "                % fraction_needed = .1 * ones(1, num_loci);%vector denoting fraction of environments each locus is needed\n",
    "\n",
    "\n",
    "            %simulation parameters\n",
    "                num_reps = 1000; %number of replicate runs\n",
    "            %initialize data structures\n",
    "                is_fixed = zeros(length(m), num_reps);\n",
    "                stop_time = zeros(length(m), num_reps);\n",
    "                m_array_index = 0;\n",
    "\n",
    "\n",
    "\n",
    "\n",
    "\n",
    "        %for the figure\n",
    "            close all;\n",
    "            fontSize = 15;\n",
    "\n",
    "\n",
    "\n",
    "\n",
    "        for l = m\n",
    "\n",
    "            change_rate = l;%number of gens btwn environmental changes\n",
    "            m_array_index = m_array_index+1;\n",
    "            for j = 1:num_reps\n",
    "                pop = [N-1,ones(1,num_loci),mu_1;1,ones(1,num_loci),mu_2]; %starts all individuals with all functional loci\n",
    "                rand_vect = rand(1,num_loci); %initializes with a random environment\n",
    "                env = rand_vect<=frac_needed_scalar;\n",
    "                k=1;\n",
    "                counter = round((rand)*(change_rate - 1));\n",
    "                while k == 1\n",
    "\n",
    "                    counter = counter + 1;\n",
    "\n",
    "                    if mod(counter,change_rate)==0 %determines if environment should change this generation\n",
    "                        rand_vect = rand(1,num_loci); %initializes with a random environment\n",
    "                        env = rand_vect<=frac_needed_scalar; %resets each environment\n",
    "                    end\n",
    "\n",
    "                    pop = mutate3(pop, rev_mut, num_essential); %mutate population\n",
    "                    %%%%%%%%%%% deals with extinction %%%%%%%%%%%%%%%%%%%\n",
    "                    if (size(pop,1) == 1) && (isnan(pop(:,2)))\n",
    "                        break\n",
    "                    end\n",
    "                    %%%%%%%%%%%%%%%%%%%%%%%%%%%%%%%%%%%%%%%%%%%%%%%%%%%%%%%%%%%%\n",
    "\n",
    "                    fitnesses = compute_fitness3(pop,s_gains,env,s_baggage); %computes fitnesses for each unique genotype\n",
    "                    pop = wright_fisher2(fitnesses); %performs wright_fisher sampling to update population to next generation\n",
    "\n",
    "                    index = find(m == change_rate);\n",
    "\n",
    "                    mu_poly = unique(pop(:, end));\n",
    "                    if length(mu_poly) == 1\n",
    "                        k = 0;\n",
    "                        if mu_poly == mu_1\n",
    "                            is_fixed(index,j) = 0;\n",
    "                            stop_time(index,j)= counter;\n",
    "                        elseif mu_poly == mu_2\n",
    "                            is_fixed(index,j) = 1;\n",
    "                            stop_time(index,j)= counter;\n",
    "\n",
    "                        else\n",
    "                             error('Value other than 0 or 1 are not permited')\n",
    "                        end\n",
    "                    end\n",
    "\n",
    "\n",
    "\n",
    "                end\n",
    "\n",
    "\n",
    "            end\n",
    "\n",
    "        end\n",
    "\n",
    "        pfix_cr10 = sum(is_fixed(1,:),2)/num_reps;\n",
    "        pfix_cr100 = sum(is_fixed(2,:),2)/num_reps;\n",
    "        pfix_cr1000 = sum(is_fixed(3,:),2)/num_reps;\n",
    "        pfix_cr10000 = sum(is_fixed(4,:),2)/num_reps;\n",
    "        r =[pfix_cr10; pfix_cr100; pfix_cr1000; pfix_cr10000];\n",
    "        r_prime = r*num_reps;\n",
    "        [phat,pci] =binofit(r_prime,num_reps, 0.05);\n",
    "        figure;\n",
    "        fig = errorbar(m,phat,pci(:,1), pci(:,2),'rx');\n",
    "        a = [ 'P_{fix} with s_{baggage}= 10^{-' , num2str(i), '} and s_{gains}= 10^{',num2str(y),'}'];\n",
    "        title(a, 'FontSize', 10);\n",
    "        xlabel('Replicate', 'FontSize', fontSize);\n",
    "        ylabel('P_{fix}', 'FontSize', fontSize);\n",
    "        \n",
    "        filename = [ 's_baggage 10^-', num2str(i), ' and s_gains 10^',num2str(y), ' and N ',num2str(N),'' ];\n",
    "        save(filename);\n",
    "        \n",
    "        \n",
    "    end\n",
    "\n",
    "end"
   ]
  },
  {
   "cell_type": "code",
   "execution_count": null,
   "metadata": {
    "collapsed": true
   },
   "outputs": [],
   "source": [
    "load()"
   ]
  }
 ],
 "metadata": {
  "kernelspec": {
   "display_name": "Matlab",
   "language": "matlab",
   "name": "matlab_kernel"
  },
  "language_info": {
   "codemirror_mode": "Octave",
   "file_extension": ".m",
   "help_links": [
    {
     "text": "MetaKernel Magics",
     "url": "https://github.com/calysto/metakernel/blob/master/metakernel/magics/README.md"
    }
   ],
   "mimetype": "text/x-matlab",
   "name": "octave"
  }
 },
 "nbformat": 4,
 "nbformat_minor": 0
}
